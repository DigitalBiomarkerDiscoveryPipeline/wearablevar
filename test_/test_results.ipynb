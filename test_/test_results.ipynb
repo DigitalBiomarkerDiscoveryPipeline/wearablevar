{
 "cells": [
  {
   "cell_type": "code",
   "execution_count": 2,
   "metadata": {},
   "outputs": [
    {
     "name": "stdout",
     "output_type": "stream",
     "text": [
      "interdaysd is: 19.774769584543947\n",
      "interdaycv is: 22.341790619807224\n",
      "intradaysd is: (78.83516684393632, 52.43868767329974, 86.35951807358884)\n",
      "intradaycv is: (17.458322436019536, 10.42683581718584, 10.067854367425806)\n",
      "intradaymean is: (422.6277542536455, 134.15199999999993, 472.63307392993806)\n",
      "TOR is: 231\n",
      "TIR is: 1223\n",
      "POR is: 15.887207702888585\n",
      "MAGE is: index     1204.645022\n",
      "Sensor     113.427316\n",
      "dtype: float64\n",
      "summary is: (88.51022696011003, 82.53, 54.28, 162.4, 77.77, 94.14250000000001)\n"
     ]
    }
   ],
   "source": [
    "import wearablevar as weav\n",
    "\n",
    "data = weav.importe4('test_file.csv', '%m/%d/%Y %H:%M')\n",
    "\n",
    "print('interdaysd is: ' + str(weav.interdaysd(data)))\n",
    "print('interdaycv is: ' + str(weav.interdaycv(data)))\n",
    "print('intradaysd is: ' + str(weav.intradaysd(data)))\n",
    "print('intradaycv is: ' + str(weav.intradaycv(data)))\n",
    "print('intradaymean is: ' + str(weav.intradaymean(data)))\n",
    "print('TOR is: ' + str(weav.TOR(data)))\n",
    "print('TIR is: ' + str(weav.TIR(data)))\n",
    "print('POR is: ' + str(weav.POR(data)))\n",
    "print('MAGE is: ' + str(weav.MASE(data)))\n",
    "print('summary is: ' + str(weav.summarymetrics(data)))\n"
   ]
  }
 ],
 "metadata": {
  "kernelspec": {
   "display_name": "Python 3",
   "language": "python",
   "name": "python3"
  },
  "language_info": {
   "codemirror_mode": {
    "name": "ipython",
    "version": 3
   },
   "file_extension": ".py",
   "mimetype": "text/x-python",
   "name": "python",
   "nbconvert_exporter": "python",
   "pygments_lexer": "ipython3",
   "version": "3.6.9"
  }
 },
 "nbformat": 4,
 "nbformat_minor": 4
}
